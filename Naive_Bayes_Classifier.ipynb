{
 "cells": [
  {
   "cell_type": "markdown",
   "id": "71e50621",
   "metadata": {},
   "source": [
    "# Naive Bayes Classifier (NBC) - Email Similarity Project\n",
    "## What is the Naives Bayes Classifier (NBC)?\n",
    "-> An NBC is a supervised machine learning algorithm that leverages Bayes' Theorem to make predictions and classifications. It is often used majorly for text classification\n",
    "\n",
    "-> The Bayes' Theorem is based on a branch of statistics called Bayesian Statistics, where we take prior knowledge into account before calculating new probabilities. The mathematical expression is shown below for two events `A` and `B`\n",
    "\n",
    "$$\n",
    "P(A|B) = \\frac{P(B|A).P(A)}{P(B)}\n",
    "$$\n",
    "\n",
    "-> In order to use the above equation as a classifier, we replace `B` with the data point and `A` with the class or label. \n",
    "\n",
    "-> A layman does not need to worry much about the internal workings of the classifier, especially since python has well-developed libraries that can handle all the abstractions. And I have used those libraries in these project"
   ]
  },
  {
   "cell_type": "markdown",
   "id": "d1c9ed5c",
   "metadata": {},
   "source": [
    "## Project Description\n",
    "I will be using the Naive Bayes to try to distinguish between different types of emails. For example, figure out which emails are about soccer and which emails are about hockey."
   ]
  },
  {
   "cell_type": "code",
   "execution_count": 86,
   "id": "c5ec4319",
   "metadata": {},
   "outputs": [
    {
     "name": "stdout",
     "output_type": "stream",
     "text": [
      "['alt.atheism', 'comp.graphics', 'comp.os.ms-windows.misc', 'comp.sys.ibm.pc.hardware', 'comp.sys.mac.hardware', 'comp.windows.x', 'misc.forsale', 'rec.autos', 'rec.motorcycles', 'rec.sport.baseball', 'rec.sport.hockey', 'sci.crypt', 'sci.electronics', 'sci.med', 'sci.space', 'soc.religion.christian', 'talk.politics.guns', 'talk.politics.mideast', 'talk.politics.misc', 'talk.religion.misc']\n"
     ]
    }
   ],
   "source": [
    "#First Let's Explore the Dataset\n",
    "# Step1 - import the email dataset and the neccessary libraries\n",
    "from sklearn.datasets import fetch_20newsgroups\n",
    "from sklearn.naive_bayes import MultinomialNB\n",
    "from sklearn.feature_extraction.text import CountVectorizer\n",
    "import logging\n",
    "import sys\n",
    "\n",
    "#Creating a logging object to help display some outputs\n",
    "logger = logging.getLogger(__name__)\n",
    "\n",
    "# Remove existing handlers, if any\n",
    "logger.handlers = []\n",
    "\n",
    "#Creating a stream handler to output messages to the console\n",
    "stream_handler = logging.StreamHandler(sys.stdout)\n",
    "\n",
    "#add the stream handler to the logger\n",
    "logger.addHandler(stream_handler)\n",
    "\n",
    "#set the logging level to info - to disable the logging use logging.WARNING instead of logging.INFO\n",
    "logger.setLevel(logging.INFO)\n",
    "\n",
    "#See the different email categories\n",
    "emails = fetch_20newsgroups()\n",
    "logger.info(emails.target_names)"
   ]
  },
  {
   "cell_type": "code",
   "execution_count": 87,
   "id": "bccf9cd3",
   "metadata": {},
   "outputs": [
    {
     "name": "stdout",
     "output_type": "stream",
     "text": [
      "From: mmb@lamar.ColoState.EDU (Michael Burger)\n",
      "Subject: More TV Info\n",
      "Distribution: na\n",
      "Nntp-Posting-Host: lamar.acns.colostate.edu\n",
      "Organization: Colorado State University, Fort Collins, CO  80523\n",
      "Lines: 36\n",
      "\n",
      "United States Coverage:\n",
      "Sunday April 18\n",
      "  N.J./N.Y.I. at Pittsburgh - 1:00 EDT to Eastern Time Zone\n",
      "  ABC - Gary Thorne and Bill Clement\n",
      "\n",
      "  St. Louis at Chicago - 12:00 CDT and 11:00 MDT - to Central/Mountain Zones\n",
      "  ABC - Mike Emerick and Jim Schoenfeld\n",
      "\n",
      "  Los Angeles at Calgary - 12:00 PDT and 11:00 ADT - to Pacific/Alaskan Zones\n",
      "  ABC - Al Michaels and John Davidson\n",
      "\n",
      "Tuesday, April 20\n",
      "  N.J./N.Y.I. at Pittsburgh - 7:30 EDT Nationwide\n",
      "  ESPN - Gary Thorne and Bill Clement\n",
      "\n",
      "Thursday, April 22 and Saturday April 24\n",
      "  To Be Announced - 7:30 EDT Nationwide\n",
      "  ESPN - To Be Announced\n",
      "\n",
      "\n",
      "Canadian Coverage:\n",
      "\n",
      "Sunday, April 18\n",
      "  Buffalo at Boston - 7:30 EDT Nationwide\n",
      "  TSN - ???\n",
      "\n",
      "Tuesday, April 20\n",
      "  N.J.D./N.Y. at Pittsburgh - 7:30 EDT Nationwide\n",
      "  TSN - ???\n",
      "\n",
      "Wednesday, April 21\n",
      "  St. Louis at Chicago - 8:30 EDT Nationwide\n",
      "  TSN - ???\n",
      "\n",
      "\n",
      "\n",
      "\n"
     ]
    }
   ],
   "source": [
    "#Step2 - Let's focus on distinguishing between baseball email and hockey email using the NBC\n",
    "emails = fetch_20newsgroups(categories = ['rec.sport.baseball', 'rec.sport.hockey'])\n",
    "\n",
    "#Step3 - View one of the emails, stored in the .data object\n",
    "logger.info(emails.data[5])"
   ]
  },
  {
   "cell_type": "code",
   "execution_count": 88,
   "id": "afadb1ab",
   "metadata": {},
   "outputs": [
    {
     "name": "stdout",
     "output_type": "stream",
     "text": [
      "The label of the email datapoint at index 5 is 1\n",
      "The name of that label of the email datapoint at index 5 is rec.sport.hockey\n"
     ]
    }
   ],
   "source": [
    "#Step4 - View the corresponding label of the datapoint at index 5 above\n",
    "#note that this labels are also called the targets\n",
    "logger.info('The label of the email datapoint at index 5 is {y}'.format(y=emails.target[5]))\n",
    "logger.info('The name of that label of the email datapoint at index 5 is {y}'.format(y=emails.target_names[emails.target[5]]))"
   ]
  },
  {
   "cell_type": "code",
   "execution_count": 89,
   "id": "66073909",
   "metadata": {},
   "outputs": [],
   "source": [
    "#Now, Lets Make the Training and Testing Datasets\n",
    "\n",
    "#Step5 - split the dataset into the training and test sets\n",
    "#Note that the dataset already has these subsets available. Also by using a non-zero random_state ensures the data is split the same way everytime we run the code\n",
    "train_emails = fetch_20newsgroups(categories = ['rec.sport.baseball', 'rec.sport.hockey'], subset = 'train', shuffle = True, random_state = 108)\n",
    "\n",
    "#Step6 - create the test dataset\n",
    "test_emails = fetch_20newsgroups(categories = ['rec.sport.baseball', 'rec.sport.hockey'], subset = 'test', shuffle = True, random_state = 108)"
   ]
  },
  {
   "cell_type": "code",
   "execution_count": 90,
   "id": "8f617c0c",
   "metadata": {},
   "outputs": [],
   "source": [
    "#Next, lets transform the email datapoints into word counts using the CountVectorizer class\n",
    "\n",
    "#Step7 - Create a CountVectorizer Object\n",
    "counter = CountVectorizer()\n",
    "\n",
    "#Step8 - Inform the object about the words in our emails by fitting the counter objects to the words in our emails\n",
    "counter.fit(train_emails.data+test_emails.data)\n",
    "\n",
    "#Step9 - Make a list of the counts of words in the training and training dataset\n",
    "train_counts = counter.transform(train_emails.data)\n",
    "\n",
    "#Step10 - testing\n",
    "test_counts = counter.transform(test_emails.data)"
   ]
  },
  {
   "cell_type": "code",
   "execution_count": 91,
   "id": "778d8338",
   "metadata": {},
   "outputs": [
    {
     "name": "stdout",
     "output_type": "stream",
     "text": [
      "The NBC has an accuracy of 97.2362% on the test dataset\n"
     ]
    }
   ],
   "source": [
    "#Next, lets Make the Naive Bayes Classifier(NBC)\n",
    "\n",
    "#Step11 - create an NBC object\n",
    "classifier = MultinomialNB()\n",
    "\n",
    "#Step12 - fit the training data to the NBC object\n",
    "classifier.fit(train_counts,train_emails.target)\n",
    "\n",
    "#Step13 - Test the NBC by printing the accuracy of the classifier on the test set\n",
    "logger.info('The NBC has an accuracy of {score}% on the test dataset'.format(score=round(classifier.score(test_counts,test_emails.target)*100,4)))"
   ]
  }
 ],
 "metadata": {
  "kernelspec": {
   "display_name": "Python 3 (ipykernel)",
   "language": "python",
   "name": "python3"
  },
  "language_info": {
   "codemirror_mode": {
    "name": "ipython",
    "version": 3
   },
   "file_extension": ".py",
   "mimetype": "text/x-python",
   "name": "python",
   "nbconvert_exporter": "python",
   "pygments_lexer": "ipython3",
   "version": "3.10.5"
  }
 },
 "nbformat": 4,
 "nbformat_minor": 5
}
